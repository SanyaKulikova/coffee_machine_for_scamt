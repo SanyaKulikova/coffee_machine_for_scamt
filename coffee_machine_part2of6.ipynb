{
 "cells": [
  {
   "cell_type": "markdown",
   "id": "popular-antique",
   "metadata": {},
   "source": [
    "Invoking a function"
   ]
  },
  {
   "cell_type": "code",
   "execution_count": 3,
   "id": "split-freight",
   "metadata": {},
   "outputs": [
    {
     "data": {
      "text/plain": [
       "3"
      ]
     },
     "execution_count": 3,
     "metadata": {},
     "output_type": "execute_result"
    }
   ],
   "source": [
    "sum((1, 2))  # кто вообще требует двойные скобки"
   ]
  },
  {
   "cell_type": "code",
   "execution_count": 5,
   "id": "thrown-india",
   "metadata": {},
   "outputs": [
    {
     "data": {
      "text/plain": [
       "1"
      ]
     },
     "execution_count": 5,
     "metadata": {},
     "output_type": "execute_result"
    }
   ],
   "source": [
    "# len(1)\n",
    "len(\"1\")"
   ]
  },
  {
   "cell_type": "markdown",
   "id": "legendary-azerbaijan",
   "metadata": {},
   "source": [
    "Taking input"
   ]
  },
  {
   "cell_type": "code",
   "execution_count": 7,
   "id": "delayed-apache",
   "metadata": {},
   "outputs": [
    {
     "name": "stdout",
     "output_type": "stream",
     "text": [
      "8\n",
      "11\n",
      "-3\n"
     ]
    }
   ],
   "source": [
    "number_one = int(input())\n",
    "number_two = int(input())\n",
    "print(number_one - number_two)"
   ]
  },
  {
   "cell_type": "markdown",
   "id": "decreased-roommate",
   "metadata": {},
   "source": [
    "Program with numbers "
   ]
  },
  {
   "cell_type": "code",
   "execution_count": 11,
   "id": "flexible-oriental",
   "metadata": {},
   "outputs": [
    {
     "name": "stdout",
     "output_type": "stream",
     "text": [
      "5\n",
      "2\n",
      "0\n"
     ]
    }
   ],
   "source": [
    "squirrels_number = int(input())\n",
    "nuts_number = int(input())\n",
    "each_squirrel = nuts_number // squirrels_number\n",
    "print(each_squirrel)"
   ]
  },
  {
   "cell_type": "markdown",
   "id": "proprietary-graphic",
   "metadata": {},
   "source": [
    "Basic string methods"
   ]
  },
  {
   "cell_type": "code",
   "execution_count": 19,
   "id": "logical-edwards",
   "metadata": {
    "scrolled": true
   },
   "outputs": [
    {
     "name": "stdout",
     "output_type": "stream",
     "text": [
      "Chárlotte Brontë\n",
      "Charlotte Bronte\n"
     ]
    }
   ],
   "source": [
    "name = input()\n",
    "\n",
    "def normalize(name):\n",
    "    \n",
    "    new_name = name.replace(\"é\", \"e\").replace(\"ë\", \"e\").replace(\"á\", \"a\").replace(\"å\", \"aa\").replace(\"œ\", \"oe\").replace(\"æ\", \"ae\")\n",
    "    return new_name\n",
    "\n",
    "print(normalize(name))"
   ]
  },
  {
   "cell_type": "markdown",
   "id": "fifteen-dimension",
   "metadata": {},
   "source": [
    "Ingredient calculator"
   ]
  },
  {
   "cell_type": "code",
   "execution_count": 21,
   "id": "retired-proxy",
   "metadata": {},
   "outputs": [
    {
     "name": "stdout",
     "output_type": "stream",
     "text": [
      "Write how many cups of coffee you will need\n",
      "5\n",
      "For  5 cups of coffee you will need:\n",
      "1000  ml of water\n",
      "250  ml of milk\n",
      "75  g of coffee beans\n"
     ]
    }
   ],
   "source": [
    "print(\"Write how many cups of coffee you will need\")\n",
    "cups_number = int(input())\n",
    "print(\"For \", cups_number, \"cups of coffee you will need:\")\n",
    "print(200 * cups_number, \" ml of water\")\n",
    "print(50 * cups_number, \" ml of milk\")\n",
    "print(15 * cups_number, \" g of coffee beans\")"
   ]
  }
 ],
 "metadata": {
  "kernelspec": {
   "display_name": "Python 3",
   "language": "python",
   "name": "python3"
  },
  "language_info": {
   "codemirror_mode": {
    "name": "ipython",
    "version": 3
   },
   "file_extension": ".py",
   "mimetype": "text/x-python",
   "name": "python",
   "nbconvert_exporter": "python",
   "pygments_lexer": "ipython3",
   "version": "3.8.5"
  }
 },
 "nbformat": 4,
 "nbformat_minor": 5
}
