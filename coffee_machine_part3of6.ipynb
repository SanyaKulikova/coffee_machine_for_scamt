{
 "cells": [
  {
   "cell_type": "markdown",
   "id": "adopted-chinese",
   "metadata": {},
   "source": [
    "Boolean logic"
   ]
  },
  {
   "cell_type": "markdown",
   "id": "renewable-medline",
   "metadata": {},
   "source": [
    "Comparisons"
   ]
  },
  {
   "cell_type": "code",
   "execution_count": 1,
   "id": "electric-kuwait",
   "metadata": {},
   "outputs": [
    {
     "name": "stdout",
     "output_type": "stream",
     "text": [
      "9\n",
      "68\n",
      "589\n",
      "True\n"
     ]
    }
   ],
   "source": [
    "number_of_halls = int(input())\n",
    "capacity = int(input())\n",
    "viewers = int(input())\n",
    "\n",
    "print(number_of_halls * capacity >= viewers)"
   ]
  },
  {
   "cell_type": "markdown",
   "id": "played-marker",
   "metadata": {},
   "source": [
    "If statement"
   ]
  },
  {
   "cell_type": "code",
   "execution_count": 3,
   "id": "third-culture",
   "metadata": {},
   "outputs": [
    {
     "name": "stdout",
     "output_type": "stream",
     "text": [
      "flour\n",
      "apple pie time!\n",
      "chocolate cake time!\n"
     ]
    }
   ],
   "source": [
    "pasta = \"tomato, basil, garlic, salt, pasta, olive oil\"\n",
    "apple_pie = \"apple, sugar, salt, cinnamon, flour, egg, butter\"\n",
    "ratatouille = \"aubergine, carrot, onion, tomato, garlic, olive oil, pepper, salt\"\n",
    "chocolate_cake = \"chocolate, sugar, salt, flour, coffee, butter\"\n",
    "omelette = \"egg, milk, bacon, tomato, salt, pepper\"\n",
    "\n",
    "ingredient_name = input()\n",
    "\n",
    "if ingredient_name in pasta:\n",
    "    print(\"pasta time!\")\n",
    "if ingredient_name in apple_pie:\n",
    "    print(\"apple pie time!\")\n",
    "if ingredient_name in ratatouille:\n",
    "    print(\"ratatouille time!\")\n",
    "if ingredient_name in chocolate_cake:\n",
    "    print(\"chocolate cake time!\")\n",
    "if ingredient_name in omelette:\n",
    "    print(\"omelette time!\")"
   ]
  },
  {
   "cell_type": "markdown",
   "id": "ancient-field",
   "metadata": {},
   "source": [
    "Else statement"
   ]
  },
  {
   "cell_type": "code",
   "execution_count": 5,
   "id": "matched-atmosphere",
   "metadata": {},
   "outputs": [
    {
     "name": "stdout",
     "output_type": "stream",
     "text": [
      "23\n",
      "23\n",
      "23\n",
      "23\n"
     ]
    }
   ],
   "source": [
    "a = int(input()) \n",
    "b = int(input()) \n",
    "if a == b: \n",
    "    print(a) \n",
    "    print(b) \n",
    "else: \n",
    "    if a > b: \n",
    "        print(a) \n",
    "        print(b) \n",
    "    else: \n",
    "        print(b) \n",
    "        print(a)"
   ]
  },
  {
   "cell_type": "markdown",
   "id": "taken-elder",
   "metadata": {},
   "source": [
    "Elif statement"
   ]
  },
  {
   "cell_type": "code",
   "execution_count": 6,
   "id": "technical-mount",
   "metadata": {},
   "outputs": [
    {
     "name": "stdout",
     "output_type": "stream",
     "text": [
      "-4\n",
      "negative\n"
     ]
    }
   ],
   "source": [
    "number = int(input())\n",
    "if number == 0:\n",
    "    print (\"zero\")\n",
    "elif number > 0:\n",
    "    print(\"positive\")\n",
    "else:\n",
    "    print(\"negative\")"
   ]
  },
  {
   "cell_type": "markdown",
   "id": "indoor-belly",
   "metadata": {},
   "source": [
    "The input format:\n",
    "The input comprises five strings with numbers in the following order: A, B, C, X, Y. If the size of the doorway is greater than or equal to any two dimensions of the box, it is considered that the box can be carried.\n",
    "\n",
    "The output format:\n",
    "If the box can be carried through the doorway, output \"The box can be carried\".\n",
    "If it cannot be carried, output \"The box cannot be carried\"."
   ]
  },
  {
   "cell_type": "code",
   "execution_count": 10,
   "id": "african-platinum",
   "metadata": {},
   "outputs": [
    {
     "name": "stdout",
     "output_type": "stream",
     "text": [
      "80\n",
      "50\n",
      "80\n",
      "33\n",
      "78\n",
      "The box cannot be carried\n"
     ]
    }
   ],
   "source": [
    "a = int(input())\n",
    "b = int(input())\n",
    "c = int(input())\n",
    "x = int(input())\n",
    "y = int(input())\n",
    "if a > x:  # то есть если одна сторона больше ширины \n",
    "    # провряем остальные две:\n",
    "    if b > x and c > x:  # если обе другие также больше -> очевидно не пройдет коробка\n",
    "        print(\"The box cannot be carried\")\n",
    "    elif (b <= x and c <= y) or (b <= y and c <= x) :\n",
    "        print(\"The box can be carried\")\n",
    "    elif b > x and (b <= y or a <= y):\n",
    "        print(\"The box can be carried\")\n",
    "    elif c > x and (c <= y or a <= y):\n",
    "        print(\"The box can be carried\")\n",
    "    else:\n",
    "        print(\"The box cannot be carried\")\n",
    "elif a > y:\n",
    "    if b > y and c > y:  # если обе другие также больше -> очевидно не пройдет коробка\n",
    "        print(\"The box cannot be carried\")\n",
    "    elif (b <= y and c <= x) or (b <= x and c <= y) :\n",
    "        print(\"The box can be carried\")\n",
    "    elif b > y and (b <= x or a <= x):\n",
    "        print(\"The box can be carried\")\n",
    "    elif c > y and (c <= x or a <= x):\n",
    "        print(\"The box can be carried\")\n",
    "    else:\n",
    "        print(\"The box cannot be carried\")\n",
    "elif b > x and c > x:\n",
    "    if b <= y or c <= y:\n",
    "        print(\"The box can be carried\")\n",
    "    else:\n",
    "        print(\"The box cannot be carried\")\n",
    "else:\n",
    "    print(\"The box can be carried\")\n",
    "    "
   ]
  },
  {
   "cell_type": "markdown",
   "id": "controlled-omega",
   "metadata": {},
   "source": [
    "Нормальное решение предыдущей"
   ]
  },
  {
   "cell_type": "code",
   "execution_count": 11,
   "id": "formed-video",
   "metadata": {},
   "outputs": [
    {
     "name": "stdout",
     "output_type": "stream",
     "text": [
      "80\n",
      "50\n",
      "80\n",
      "33\n",
      "78\n",
      "The box cannot be carried\n"
     ]
    }
   ],
   "source": [
    "a = int(input())\n",
    "b = int(input())\n",
    "c = int(input())\n",
    "x = int(input())\n",
    "y = int(input())\n",
    "\n",
    "door = x + y\n",
    "if a + b <= door:\n",
    "    print(\"The box can be carried\")\n",
    "elif a + c <= door:\n",
    "    print(\"The box can be carried\")\n",
    "elif b + c <= door:\n",
    "    print(\"The box can be carried\")\n",
    "else:\n",
    "    print(\"The box cannot be carried\")      "
   ]
  },
  {
   "cell_type": "markdown",
   "id": "ancient-columbia",
   "metadata": {},
   "source": [
    "Estimate the number of servings"
   ]
  },
  {
   "cell_type": "code",
   "execution_count": 18,
   "id": "designed-volunteer",
   "metadata": {},
   "outputs": [
    {
     "name": "stdout",
     "output_type": "stream",
     "text": [
      "Write how many ml of water the coffee machine has:\n",
      "400\n",
      "Write how many ml of milk the coffee machine has:\n",
      "100\n",
      "Write how many grams of coffee beans the coffee machine has:\n",
      "30\n",
      "Write how many cups of coffee you will need\n",
      "3\n",
      "No, I can make only  2  cups of coffee\n"
     ]
    }
   ],
   "source": [
    "print(\"Write how many ml of water the coffee machine has:\")\n",
    "water_amount = int(input())\n",
    "print(\"Write how many ml of milk the coffee machine has:\")\n",
    "milk_amount = int(input())\n",
    "print(\"Write how many grams of coffee beans the coffee machine has:\")\n",
    "coffee_amount = int(input())\n",
    "print(\"Write how many cups of coffee you will need\")\n",
    "user_cups = int(input())\n",
    "\n",
    "machine_cups = min(water_amount // 200, milk_amount // 50, coffee_amount // 15)\n",
    "if machine_cups == user_cups:\n",
    "    print(\"Yes, I can make that amount of coffee\")\n",
    "elif machine_cups > user_cups:\n",
    "    print(\"Yes, I can make that amount of coffee (and even \", machine_cups - user_cups,\" more than that)\")\n",
    "else:\n",
    "    print(\"No, I can make only \", machine_cups, \" cups of coffee\")"
   ]
  },
  {
   "cell_type": "code",
   "execution_count": null,
   "id": "atlantic-roots",
   "metadata": {},
   "outputs": [],
   "source": []
  }
 ],
 "metadata": {
  "kernelspec": {
   "display_name": "Python 3",
   "language": "python",
   "name": "python3"
  },
  "language_info": {
   "codemirror_mode": {
    "name": "ipython",
    "version": 3
   },
   "file_extension": ".py",
   "mimetype": "text/x-python",
   "name": "python",
   "nbconvert_exporter": "python",
   "pygments_lexer": "ipython3",
   "version": "3.8.5"
  }
 },
 "nbformat": 4,
 "nbformat_minor": 5
}
