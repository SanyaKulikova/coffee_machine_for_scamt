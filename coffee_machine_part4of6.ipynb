{
 "cells": [
  {
   "cell_type": "markdown",
   "id": "national-anderson",
   "metadata": {},
   "source": []
  },
  {
   "cell_type": "code",
   "execution_count": 7,
   "id": "knowing-amount",
   "metadata": {},
   "outputs": [
    {
     "name": "stdout",
     "output_type": "stream",
     "text": [
      "40\n"
     ]
    }
   ],
   "source": [
    "def closest_higher_mod_5(x):\n",
    "    remainder = x % 5\n",
    "    if remainder == 0:\n",
    "        return x\n",
    "    return x + 5- (x % 5)\n",
    "\n",
    "print(closest_higher_mod_5(36))"
   ]
  },
  {
   "cell_type": "code",
   "execution_count": 9,
   "id": "charitable-melbourne",
   "metadata": {},
   "outputs": [
    {
     "name": "stdout",
     "output_type": "stream",
     "text": [
      "2\n",
      "1\n",
      "1\n",
      "3\n"
     ]
    }
   ],
   "source": [
    "x, y = 1, 2\n",
    "\n",
    "def foo():\n",
    "    global y\n",
    "    if y == 2:\n",
    "        x = 2\n",
    "        y = 1\n",
    "        print(x)\n",
    "        print(y)\n",
    "\n",
    "foo()\n",
    "print(x)\n",
    "if y == 1:\n",
    "    x = 3\n",
    "print(x)"
   ]
  },
  {
   "cell_type": "markdown",
   "id": "diverse-pierre",
   "metadata": {},
   "source": [
    "Something in common"
   ]
  },
  {
   "cell_type": "code",
   "execution_count": null,
   "id": "thorough-columbia",
   "metadata": {},
   "outputs": [],
   "source": [
    "def calculate_linear(k, b, x):\n",
    "    common_part(k * x + b)\n",
    "    \n",
    "\n",
    "\n",
    "def calculate_quadratic(a, b, c, x):\n",
    "    common_part((a * x * x) + (b * x) + c)\n",
    "\n",
    "def common_part(y):\n",
    "    print(\"Value of the function equals\", y)\n",
    "    return y\n"
   ]
  },
  {
   "cell_type": "markdown",
   "id": "southern-phrase",
   "metadata": {},
   "source": [
    "Functional decomposition"
   ]
  },
  {
   "cell_type": "code",
   "execution_count": null,
   "id": "civilian-fluid",
   "metadata": {},
   "outputs": [],
   "source": [
    "def calculate(amount, interest_rate, time):\n",
    "    interest = (amount * interest_rate * time) / 100\n",
    "    total_amount = amount + (amount * interest_rate * time) / 100\n",
    "    return interest, total_amount\n",
    "\n",
    "def print_result(interest, total_amount):\n",
    "    print(\"The interest is: \", interest)\n",
    "    print(\"The total amount is: \", total_amount)"
   ]
  },
  {
   "cell_type": "markdown",
   "id": "thrown-samoa",
   "metadata": {},
   "source": [
    "Temperature"
   ]
  },
  {
   "cell_type": "code",
   "execution_count": 9,
   "id": "varying-anchor",
   "metadata": {},
   "outputs": [],
   "source": [
    "def fahrenheit_to_celsius(temps_f):\n",
    "    temps_c = (temps_f - 32) * 5 / 9\n",
    "    return round(temps_c, 2)\n",
    "\n",
    "\n",
    "def celsius_to_fahrenheit(temps_c):\n",
    "    temps_f = temps_c * 9 / 5 + 32\n",
    "    return round(temps_f, 2)\n",
    "\n",
    "def main():\n",
    "    temperature, unit = input().split()  # read the input\n",
    "    temp = float(temperature)\n",
    "    if unit == \"C\":\n",
    "        print(celsius_to_fahrenheit(temp), \"F\")\n",
    "    else:\n",
    "        print(fahrenheit_to_celsius(temp), \"C\")\n",
    "    \n",
    "        "
   ]
  },
  {
   "cell_type": "code",
   "execution_count": 10,
   "id": "continuing-rescue",
   "metadata": {
    "scrolled": true
   },
   "outputs": [
    {
     "name": "stdout",
     "output_type": "stream",
     "text": [
      "451 F\n",
      "232.78 C\n"
     ]
    }
   ],
   "source": [
    "main()"
   ]
  },
  {
   "cell_type": "markdown",
   "id": "false-fundamental",
   "metadata": {},
   "source": [
    "Buy, fill, take!"
   ]
  },
  {
   "cell_type": "code",
   "execution_count": 10,
   "id": "accessory-dairy",
   "metadata": {},
   "outputs": [],
   "source": [
    "def show_statement():\n",
    "    global water_amount\n",
    "    global milk_amount\n",
    "    global coffee_amount\n",
    "    global cups_amount\n",
    "    global money\n",
    "    print(\"The coffee machine has:\")\n",
    "    print(water_amount, \"ml of water\")\n",
    "    print(milk_amount, \"ml of milk\")\n",
    "    print(coffee_amount, \"g of coffee beans\")\n",
    "    print(cups_amount, \"disposable cups\")\n",
    "    print(\"$\", money, \"of money\")\n",
    "    \n",
    "def buy():\n",
    "    global water_amount\n",
    "    global milk_amount\n",
    "    global coffee_amount\n",
    "    global cups_amount\n",
    "    global money\n",
    "    print(\"What do you want to buy? 1 - espresso, 2 - latte, 3 - cappuccino:\")\n",
    "    coffee_type = input()\n",
    "    if coffee_type == \"1\":\n",
    "        water_amount -= 250\n",
    "        coffee_amount -= 16\n",
    "        money += 4\n",
    "        cups_amount -= 1\n",
    "        return water_amount, milk_amount, coffee_amount, cups_amount, money\n",
    "    elif coffee_type == \"2\":\n",
    "        water_amount -= 350 \n",
    "        milk_amount -= 75 \n",
    "        coffee_amount -= 20\n",
    "        cups_amount -= 1\n",
    "        money += 7\n",
    "        return water_amount, milk_amount, coffee_amount, cups_amount, money\n",
    "    else:\n",
    "        water_amount -= 200 \n",
    "        milk_amount -= 100 \n",
    "        coffee_amount -= 12\n",
    "        cups_amount -= 1\n",
    "        money += 6\n",
    "        return water_amount, milk_amount, coffee_amount, cups_amount, money\n",
    "\n",
    "def fill():\n",
    "    global water_amount\n",
    "    global milk_amount\n",
    "    global coffee_amount\n",
    "    global cups_amount\n",
    "    print(\"Write how many ml of water you want to add:\")\n",
    "    water_amount += int(input())\n",
    "    print(\"Write how many ml of milk you want to add:\")\n",
    "    milk_amount += int(input())\n",
    "    print(\"Write how many grams of coffee beans you want to add:\")\n",
    "    coffee_amount += int(input())\n",
    "    print(\"Write how many disposable cups you want to add:\")\n",
    "    cups_amount += int(input())\n",
    "    return water_amount, milk_amount, coffee_amount, cups_amount\n",
    "    \n",
    "def take():\n",
    "    global money\n",
    "    print(\"I gave you $\", money)\n",
    "    money = 0\n",
    "    return money\n",
    "\n",
    "def main():    \n",
    "    show_statement()\n",
    "    print(\"Write action (buy, fill, take):\")\n",
    "    action = input()\n",
    "    if action == \"buy\":\n",
    "        buy()\n",
    "    elif action == \"fill\":\n",
    "        fill()\n",
    "    elif action == \"take\":\n",
    "        take()\n",
    "    show_statement()\n",
    "# water_amount, milk_amount, coffee_amount, cups_amount, money  "
   ]
  },
  {
   "cell_type": "code",
   "execution_count": 13,
   "id": "everyday-anchor",
   "metadata": {},
   "outputs": [
    {
     "name": "stdout",
     "output_type": "stream",
     "text": [
      "The coffee machine has:\n",
      "400 ml of water\n",
      "540 ml of milk\n",
      "120 g of coffee beans\n",
      "9 disposable cups\n",
      "$ 550 of money\n",
      "Write action (buy, fill, take):\n",
      "buy\n",
      "What do you want to buy? 1 - espresso, 2 - latte, 3 - cappuccino:\n",
      "1\n",
      "The coffee machine has:\n",
      "150 ml of water\n",
      "540 ml of milk\n",
      "104 g of coffee beans\n",
      "8 disposable cups\n",
      "$ 554 of money\n"
     ]
    }
   ],
   "source": [
    "water_amount = 400 \n",
    "milk_amount = 540 \n",
    "coffee_amount = 120\n",
    "cups_amount = 9\n",
    "money = 550\n",
    "main()\n"
   ]
  },
  {
   "cell_type": "code",
   "execution_count": 2,
   "id": "anticipated-ecuador",
   "metadata": {},
   "outputs": [
    {
     "name": "stdout",
     "output_type": "stream",
     "text": [
      "0\n"
     ]
    }
   ],
   "source": [
    "a = 5\n",
    "a -= 5\n",
    "print(a)"
   ]
  },
  {
   "cell_type": "code",
   "execution_count": null,
   "id": "loved-inside",
   "metadata": {},
   "outputs": [],
   "source": []
  }
 ],
 "metadata": {
  "kernelspec": {
   "display_name": "Python 3",
   "language": "python",
   "name": "python3"
  },
  "language_info": {
   "codemirror_mode": {
    "name": "ipython",
    "version": 3
   },
   "file_extension": ".py",
   "mimetype": "text/x-python",
   "name": "python",
   "nbconvert_exporter": "python",
   "pygments_lexer": "ipython3",
   "version": "3.8.5"
  }
 },
 "nbformat": 4,
 "nbformat_minor": 5
}
