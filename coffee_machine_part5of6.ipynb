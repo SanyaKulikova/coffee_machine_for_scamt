{
 "cells": [
  {
   "cell_type": "code",
   "execution_count": 5,
   "id": "frank-niger",
   "metadata": {},
   "outputs": [
    {
     "name": "stdout",
     "output_type": "stream",
     "text": [
      "1\n",
      "4\n",
      "7\n",
      "10\n"
     ]
    }
   ],
   "source": [
    "for i in range(1, 12, 3):\n",
    "    print(i)"
   ]
  },
  {
   "cell_type": "markdown",
   "id": "talented-leadership",
   "metadata": {},
   "source": [
    "snake_case"
   ]
  },
  {
   "cell_type": "code",
   "execution_count": 24,
   "id": "ranking-lightweight",
   "metadata": {},
   "outputs": [
    {
     "name": "stdout",
     "output_type": "stream",
     "text": [
      "putho\n",
      "putho\n"
     ]
    }
   ],
   "source": [
    "word = input()\n",
    "new_word = \"\"\n",
    "for char in word:\n",
    "    if not (char.islower()):\n",
    "        char = \"_\" + char.lower()\n",
    "        new_word += char\n",
    "    else:\n",
    "        new_word += char\n",
    "print(new_word)\n",
    "        "
   ]
  },
  {
   "cell_type": "markdown",
   "id": "declared-stretch",
   "metadata": {},
   "source": [
    "Half-life"
   ]
  },
  {
   "cell_type": "code",
   "execution_count": 7,
   "id": "induced-creation",
   "metadata": {},
   "outputs": [
    {
     "name": "stdout",
     "output_type": "stream",
     "text": [
      "4\n",
      "1\n",
      "24\n"
     ]
    }
   ],
   "source": [
    "initial_number = int(input())\n",
    "final_number = int(input())\n",
    "count = 0\n",
    "\n",
    "while initial_number > final_number:\n",
    "    initial_number //= 2\n",
    "    count += 1\n",
    "print(count * 12)"
   ]
  },
  {
   "cell_type": "markdown",
   "id": "exceptional-shanghai",
   "metadata": {},
   "source": [
    "Game over"
   ]
  },
  {
   "cell_type": "code",
   "execution_count": 24,
   "id": "physical-gates",
   "metadata": {},
   "outputs": [
    {
     "name": "stdout",
     "output_type": "stream",
     "text": [
      "C C I I C C C C C C C C C C C\n",
      "You won\n",
      "13\n"
     ]
    }
   ],
   "source": [
    "scores = input().split()\n",
    "count_correct = 0\n",
    "count_wrong = 0\n",
    "state = \"\"\n",
    "\n",
    "for score in scores:\n",
    "    if count_wrong >= 3:\n",
    "        state = \"Game over\"\n",
    "        break\n",
    "    elif score == \"C\":\n",
    "        count_correct += 1\n",
    "    elif score == \"I\":\n",
    "        count_wrong += 1\n",
    "if state == \"Game over\":\n",
    "    print(state)\n",
    "    print(count_correct)\n",
    "else:\n",
    "    print(\"You won\")\n",
    "    print(count_correct)"
   ]
  },
  {
   "cell_type": "code",
   "execution_count": null,
   "id": "experienced-pharmaceutical",
   "metadata": {},
   "outputs": [],
   "source": [
    "if score == \" \":\n",
    "        continue\n",
    "    elif count_wrong >= 3:\n",
    "        print(\"Game over\")\n",
    "        break\n",
    "    elif score == \"I\"\n",
    "        count_wrong += 1\n",
    "        print(count_wrong)\n",
    "    else:\n",
    "        count_correct += 1\n",
    "        print(count_wrong"
   ]
  },
  {
   "cell_type": "markdown",
   "id": "japanese-european",
   "metadata": {},
   "source": [
    "Keep track of the supplies\n"
   ]
  },
  {
   "cell_type": "code",
   "execution_count": 11,
   "id": "commercial-divide",
   "metadata": {},
   "outputs": [],
   "source": [
    "def show_statement():\n",
    "    global water_amount\n",
    "    global milk_amount\n",
    "    global coffee_amount\n",
    "    global cups_amount\n",
    "    global money\n",
    "    \n",
    "    print(\"The coffee machine has:\")\n",
    "    print(water_amount, \"ml of water\")\n",
    "    print(milk_amount, \"ml of milk\")\n",
    "    print(coffee_amount, \"g of coffee beans\")\n",
    "    print(cups_amount, \"disposable cups\")\n",
    "    money_to_string = \"$\" + str(money)\n",
    "    print(money_to_string, \"of money\")\n",
    "    print()\n",
    "    \n",
    "def check_bool(coffee_type):\n",
    "    global water_amount\n",
    "    global milk_amount\n",
    "    global coffee_amount\n",
    "    global cups_amount\n",
    "    result = False\n",
    "    \n",
    "    if coffee_type == \"1\":\n",
    "        if water_amount >= 250 and coffee_amount >= 16 and cups_amount >= 1:\n",
    "            result = True\n",
    "        return result\n",
    "    if coffee_type == \"2\":\n",
    "        if water_amount >= 350 and  milk_amount >= 75 and coffee_amount >= 20 and cups_amount >= 1:\n",
    "            result = True\n",
    "        return result\n",
    "    if coffee_type == \"3\":\n",
    "        if water_amount >= 200 and milk_amount >= 100 and coffee_amount >= 12 and cups_amount >= 1:\n",
    "            result = True\n",
    "        return result\n",
    "\n",
    "def check_less(coffee_type):\n",
    "    global water_amount\n",
    "    global milk_amount\n",
    "    global coffee_amount\n",
    "    global cups_amount\n",
    "    less = \"\"\n",
    "    \n",
    "    if coffee_type == \"1\":\n",
    "        if water_amount < 250:\n",
    "            less = \"water\"\n",
    "        elif coffee_amount < 16:\n",
    "            less = \"coffee beans\"\n",
    "        elif cups_amount < 1:\n",
    "            less = \"disposable cups\"\n",
    "        return less\n",
    "    if coffee_type == \"2\":\n",
    "        if water_amount < 350:\n",
    "            less = \"water\"\n",
    "        elif milk_amount < 75:\n",
    "            less = \"milk\"\n",
    "        elif coffee_amount < 20:\n",
    "            less = \"coffee beans\"\n",
    "        elif cups_amount < 1:\n",
    "            less = \"disposable cups\"\n",
    "        return less\n",
    "    if coffee_type == \"3\":\n",
    "        if water_amount < 200:\n",
    "            less = \"water\"\n",
    "        elif milk_amount < 100:\n",
    "            less = \"milk\"\n",
    "        elif coffee_amount < 12:\n",
    "            less = \"coffee beans\"\n",
    "        elif cups_amount < 1:\n",
    "            less = \"disposable cups\"\n",
    "        return less\n",
    "    \n",
    "def buy():\n",
    "    global water_amount\n",
    "    global milk_amount\n",
    "    global coffee_amount\n",
    "    global cups_amount\n",
    "    global money\n",
    "    \n",
    "    print()\n",
    "    print(\"What do you want to buy? 1 - espresso, 2 - latte, 3 - cappuccino, back - to main menu: \")\n",
    "    coffee_type = input()\n",
    "\n",
    "    if coffee_type == \"1\":\n",
    "        if check_bool(\"1\"):\n",
    "            print(\"I have enough resources, making you a coffee!\")\n",
    "            print()\n",
    "            water_amount -= 250\n",
    "            coffee_amount -= 16\n",
    "            money += 4\n",
    "            cups_amount -= 1\n",
    "            return water_amount, milk_amount, coffee_amount, cups_amount, money\n",
    "        else:\n",
    "            print(\"Sorry, not enough\", check_less(\"1\"))\n",
    "            print()\n",
    "                     \n",
    "    elif coffee_type == \"2\":\n",
    "        if check_bool(\"2\"):\n",
    "            print(\"I have enough resources, making you a coffee!\")\n",
    "            print()\n",
    "            water_amount -= 350 \n",
    "            milk_amount -= 75 \n",
    "            coffee_amount -= 20\n",
    "            cups_amount -= 1\n",
    "            money += 7\n",
    "            return water_amount, milk_amount, coffee_amount, cups_amount, money\n",
    "        else:\n",
    "            print(\"Sorry, not enough\", check_less(\"2\"))\n",
    "            print()\n",
    "    elif coffee_type == \"3\":\n",
    "        if check_bool(\"3\"):\n",
    "            print(\"I have enough resources, making you a coffee!\")\n",
    "            print()\n",
    "            water_amount -= 200 \n",
    "            milk_amount -= 100 \n",
    "            coffee_amount -= 12\n",
    "            cups_amount -= 1\n",
    "            money += 6\n",
    "            return water_amount, milk_amount, coffee_amount, cups_amount, money\n",
    "        else:\n",
    "            print(\"Sorry, not enough\", check_less(\"3\"))\n",
    "            print()\n",
    "    elif coffee_type == \"back\":\n",
    "        print()\n",
    "\n",
    "def fill():\n",
    "    global water_amount\n",
    "    global milk_amount\n",
    "    global coffee_amount\n",
    "    global cups_amount\n",
    "    print(\"Write how many ml of water you want to add:\")\n",
    "    water_amount += int(input())\n",
    "    print(\"Write how many ml of milk you want to add:\")\n",
    "    milk_amount += int(input())\n",
    "    print(\"Write how many grams of coffee beans you want to add:\")\n",
    "    coffee_amount += int(input())\n",
    "    print(\"Write how many disposable cups you want to add:\")\n",
    "    cups_amount += int(input())\n",
    "    print()\n",
    "    return water_amount, milk_amount, coffee_amount, cups_amount\n",
    "    \n",
    "def take():\n",
    "    global money\n",
    "    money_to_string = \"$\" + str(money)\n",
    "    print(\"I gave you\", money_to_string)\n",
    "    print()\n",
    "    money = 0\n",
    "    return money\n",
    "\n",
    "def main():    \n",
    "    while True:\n",
    "        print(\"Write action (buy, fill, take, remaining, exit):\")\n",
    "        action = input()\n",
    "        if action == \"buy\":\n",
    "            buy()\n",
    "        elif action == \"fill\":\n",
    "            fill()\n",
    "        elif action == \"take\":\n",
    "            take()\n",
    "        elif action == \"remaining\":\n",
    "            show_statement()\n",
    "            print()\n",
    "        elif action == \"exit\":\n",
    "            break"
   ]
  },
  {
   "cell_type": "code",
   "execution_count": null,
   "id": "extensive-paste",
   "metadata": {},
   "outputs": [
    {
     "name": "stdout",
     "output_type": "stream",
     "text": [
      "Write action (buy, fill, take, remaining, exit):\n",
      "buy\n",
      "\n",
      "What do you want to buy? 1 - espresso, 2 - latte, 3 - cappuccino, back - to main menu: \n",
      "2\n",
      "I have enough resources, making you a coffee!\n",
      "\n",
      "Write action (buy, fill, take, remaining, exit):\n",
      "buy\n",
      "\n",
      "What do you want to buy? 1 - espresso, 2 - latte, 3 - cappuccino, back - to main menu: \n"
     ]
    }
   ],
   "source": [
    "water_amount = 400 \n",
    "milk_amount = 540 \n",
    "coffee_amount = 120\n",
    "cups_amount = 9\n",
    "money = 550\n",
    "main()"
   ]
  },
  {
   "cell_type": "code",
   "execution_count": null,
   "id": "laughing-poetry",
   "metadata": {},
   "outputs": [],
   "source": []
  }
 ],
 "metadata": {
  "kernelspec": {
   "display_name": "Python 3",
   "language": "python",
   "name": "python3"
  },
  "language_info": {
   "codemirror_mode": {
    "name": "ipython",
    "version": 3
   },
   "file_extension": ".py",
   "mimetype": "text/x-python",
   "name": "python",
   "nbconvert_exporter": "python",
   "pygments_lexer": "ipython3",
   "version": "3.8.5"
  }
 },
 "nbformat": 4,
 "nbformat_minor": 5
}
