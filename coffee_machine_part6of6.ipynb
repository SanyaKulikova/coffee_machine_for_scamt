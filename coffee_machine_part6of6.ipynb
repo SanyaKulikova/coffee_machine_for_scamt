{
 "cells": [
  {
   "cell_type": "markdown",
   "id": "catholic-duplicate",
   "metadata": {},
   "source": [
    "Beautify both output and code"
   ]
  },
  {
   "cell_type": "code",
   "execution_count": 1,
   "id": "champion-course",
   "metadata": {},
   "outputs": [
    {
     "name": "stdout",
     "output_type": "stream",
     "text": [
      "raybeam\n",
      "cereal-killer\n",
      "http://example.com/raybeam/desirable/cereal-killer/profile\n"
     ]
    }
   ],
   "source": [
    "name = input()\n",
    "profession = input()\n",
    "print(\"http://example.com/{}/desirable/{}/profile\".format(name, profession))"
   ]
  },
  {
   "cell_type": "code",
   "execution_count": 2,
   "id": "herbal-kingston",
   "metadata": {},
   "outputs": [
    {
     "data": {
      "text/plain": [
       "'%.4f'"
      ]
     },
     "execution_count": 2,
     "metadata": {},
     "output_type": "execute_result"
    }
   ],
   "source": [
    "\"%.4f\".format(3.14159265358979)"
   ]
  },
  {
   "cell_type": "code",
   "execution_count": 3,
   "id": "extended-allah",
   "metadata": {},
   "outputs": [
    {
     "data": {
      "text/plain": [
       "'2 2 2'"
      ]
     },
     "execution_count": 3,
     "metadata": {},
     "output_type": "execute_result"
    }
   ],
   "source": [
    "\"{1} {1} {1}\".format(1, 2, 3)"
   ]
  },
  {
   "cell_type": "code",
   "execution_count": 5,
   "id": "touched-earthquake",
   "metadata": {},
   "outputs": [
    {
     "data": {
      "text/plain": [
       "'Lisbon is the capital of Portugal'"
      ]
     },
     "execution_count": 5,
     "metadata": {},
     "output_type": "execute_result"
    }
   ],
   "source": [
    "\"{city} is the capital of {country}\".format(country=\"Portugal\",\n",
    "                                            city=\"Lisbon\")"
   ]
  },
  {
   "cell_type": "code",
   "execution_count": 6,
   "id": "played-therapist",
   "metadata": {},
   "outputs": [
    {
     "data": {
      "text/plain": [
       "'16.66667'"
      ]
     },
     "execution_count": 6,
     "metadata": {},
     "output_type": "execute_result"
    }
   ],
   "source": [
    "'%.5f' % (100/6)"
   ]
  },
  {
   "cell_type": "code",
   "execution_count": 7,
   "id": "delayed-incident",
   "metadata": {},
   "outputs": [
    {
     "data": {
      "text/plain": [
       "'100 divided by 6 equals 16.666666666666668'"
      ]
     },
     "execution_count": 7,
     "metadata": {},
     "output_type": "execute_result"
    }
   ],
   "source": [
    "'{1} divided by {0} equals {2}'.format(6, 100, 100/6)"
   ]
  },
  {
   "cell_type": "code",
   "execution_count": 8,
   "id": "constant-therapy",
   "metadata": {},
   "outputs": [
    {
     "data": {
      "text/plain": [
       "'100 divided by 6 equals 16.66667'"
      ]
     },
     "execution_count": 8,
     "metadata": {},
     "output_type": "execute_result"
    }
   ],
   "source": [
    "'{} divided by {} equals {:.5f}'.format(100, 6, 100/6)"
   ]
  },
  {
   "cell_type": "code",
   "execution_count": 9,
   "id": "friendly-dance",
   "metadata": {},
   "outputs": [
    {
     "data": {
      "text/plain": [
       "'100 / 6 = 16.666666666666668'"
      ]
     },
     "execution_count": 9,
     "metadata": {},
     "output_type": "execute_result"
    }
   ],
   "source": [
    "'{dividend} / {divisor} = {quotient}'.format(quotient=100/6, divisor=6, dividend=100)"
   ]
  },
  {
   "cell_type": "markdown",
   "id": "surrounded-exception",
   "metadata": {},
   "source": [
    "Film"
   ]
  },
  {
   "cell_type": "code",
   "execution_count": 10,
   "id": "undefined-hospital",
   "metadata": {},
   "outputs": [
    {
     "name": "stdout",
     "output_type": "stream",
     "text": [
      "Fight Club\n",
      "David Fincher\n",
      "1999\n",
      "Fight Club (dir. David Fincher) came out in 1999\n"
     ]
    }
   ],
   "source": [
    "movie = input()\n",
    "director = input()\n",
    "year = input()\n",
    "print(\"{} (dir. {}) came out in {}\".format(movie, director, year))"
   ]
  },
  {
   "cell_type": "markdown",
   "id": "bright-egyptian",
   "metadata": {},
   "source": [
    "Mountain high"
   ]
  },
  {
   "cell_type": "code",
   "execution_count": 11,
   "id": "christian-python",
   "metadata": {},
   "outputs": [],
   "source": [
    "class Mountain:\n",
    "    def __init__(self, name, height):\n",
    "        self.name = name\n",
    "        self.height = height\n",
    "    def convert_height(self):\n",
    "        return self.height / 0.3048"
   ]
  },
  {
   "cell_type": "code",
   "execution_count": 13,
   "id": "loose-climate",
   "metadata": {},
   "outputs": [
    {
     "name": "stdout",
     "output_type": "stream",
     "text": [
      "<bound method Mountain.convert_height of <__main__.Mountain object at 0x109994d60>>\n"
     ]
    }
   ],
   "source": [
    "er = Mountain(\"Darsi\", 3900)\n",
    "print(er.convert_height)"
   ]
  },
  {
   "cell_type": "markdown",
   "id": "geological-stability",
   "metadata": {},
   "source": [
    "Greetings"
   ]
  },
  {
   "cell_type": "code",
   "execution_count": 16,
   "id": "advisory-butler",
   "metadata": {},
   "outputs": [
    {
     "name": "stdout",
     "output_type": "stream",
     "text": [
      "david\n",
      "Hello, I am david!\n"
     ]
    }
   ],
   "source": [
    "class Person:\n",
    "    def __init__(self, name):\n",
    "        self.name = name\n",
    "    def greet(self):\n",
    "        print(\"Hello, I am {}!\".format(self.name))\n",
    "name = input()\n",
    "pers = Person(name)\n",
    "pers.greet()"
   ]
  },
  {
   "cell_type": "markdown",
   "id": "closing-omega",
   "metadata": {},
   "source": [
    "Lightbulb"
   ]
  },
  {
   "cell_type": "code",
   "execution_count": null,
   "id": "neither-raleigh",
   "metadata": {},
   "outputs": [],
   "source": [
    "class Lightbulb:\n",
    "    def __init__(self):\n",
    "        self.state = \"off\"\n",
    "    def change_state(self):\n",
    "        if self.state == \"off\":\n",
    "            self.state = \"on\"\n",
    "            print(\"Turning the light on\")\n",
    "        else:\n",
    "            self.state = \"off\"\n",
    "            print(\"Turning the light off\")\n"
   ]
  }
 ],
 "metadata": {
  "kernelspec": {
   "display_name": "Python 3",
   "language": "python",
   "name": "python3"
  },
  "language_info": {
   "codemirror_mode": {
    "name": "ipython",
    "version": 3
   },
   "file_extension": ".py",
   "mimetype": "text/x-python",
   "name": "python",
   "nbconvert_exporter": "python",
   "pygments_lexer": "ipython3",
   "version": "3.8.5"
  }
 },
 "nbformat": 4,
 "nbformat_minor": 5
}
